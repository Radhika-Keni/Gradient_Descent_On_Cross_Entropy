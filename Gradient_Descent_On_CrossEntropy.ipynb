{
  "cells": [
    {
      "cell_type": "markdown",
      "metadata": {
        "id": "byKMPfb8U3u8"
      },
      "source": [
        "# Implement Vanilla Gradient Descent on CE(Cross Entropy) loss\n",
        "\n",
        "\n"
      ]
    },
    {
      "cell_type": "markdown",
      "metadata": {
        "id": "6JFQGIY6U3vC"
      },
      "source": [
        "### PROLOGUE: \n",
        "Gradient Descent is where the magic happens and this optimization algorithm is used in  many ML/DL algorithms such as Linear Regression, Logistic Regression , SVM & Neural Networks.We seldom have to implement this algorithm oursleves because the libraries implement it under the hood.\n",
        "\n",
        "Inspite of being a fundamental concept in ML , this has always been a daunting concept , especially for beginners. Theortically  it involves  Calculus and Vector Algebra but how does it all pan out in terms of code ? Implementing the  Gradient Descent algorithm helps one understand this algorithm at a granular level.\n",
        "\n"
      ]
    },
    {
      "cell_type": "markdown",
      "metadata": {
        "id": "CS6_oX1Y3zKC"
      },
      "source": [
        "### PROJECT OBJECTIVE: \n",
        "To implement Gradient Decsent on CE Loss function from a neural network perspective\n"
      ]
    },
    {
      "cell_type": "markdown",
      "metadata": {
        "id": "1qqVfSfq_5sc"
      },
      "source": [
        "### CODE/SOLUTION SUMMARY\n",
        "We will be finding the best fit sigmoid curve on the given data set using Gradient Decsent i.e we will be implementing gradient decsent on the CE loss function.Below is the step wise breakdown of the code\n",
        "- We will begin by manually creating a 2D data set & visualize the data set\n",
        "- Note here that at this point , we already know what the sigmoid model would be because we engineered the data set\n",
        "- We will then implement Gradient Descent & see whether we can arrive at the same sigmoid curve gradient Descent algorithm\n",
        "- We start at random point and and iteratvely keep reducing the loss until we arrive at the best fir curve\n",
        "- Cross vaidate whether the \"best fit\" curve we arrived at through gradient decsnt is indeed the best fit curve.\n",
        "- We will realize all the operations in matrix format because we are implemting this from a neural network perspective "
      ]
    },
    {
      "cell_type": "code",
      "execution_count": 1,
      "metadata": {
        "id": "Uowb8YX4U3vF"
      },
      "outputs": [],
      "source": [
        "# Import  libraries\n",
        "\n",
        "import matplotlib.pyplot as plt\n",
        "%matplotlib inline\n",
        "import pandas as pd\n",
        "import sys\n",
        "import numpy as np\n",
        "import seaborn as sns\n",
        "import statistics as stats\n",
        "sns.set(color_codes=True)\n",
        "from IPython.core.interactiveshell import InteractiveShell\n",
        "InteractiveShell.ast_node_interactivity = \"all\"\n",
        "#Last import allows multiple outputs from one cell\n",
        "import warnings\n",
        "# Initialize the random number generator\n",
        "import random as rand\n",
        "rand.seed(101)"
      ]
    },
    {
      "cell_type": "code",
      "execution_count": 2,
      "metadata": {
        "id": "dBurjaSqU3vF"
      },
      "outputs": [],
      "source": [
        "# Useful Configuration/Setting\n",
        "\n",
        "# suppress display of warnings\n",
        "warnings.filterwarnings('ignore')\n",
        "\n",
        "# display all dataframe columns\n",
        "pd.options.display.max_columns = None\n",
        "\n",
        "# to set the limit to 3 decimals\n",
        "pd.options.display.float_format = '{:.2f}'.format\n",
        "np.set_printoptions(suppress=True)\n",
        "\n",
        "# display all dataframe rows\n",
        "pd.options.display.max_rows = None\n",
        "\n",
        "#Setting to shows all entries in array displayed\n",
        "np.set_printoptions(threshold=sys.maxsize)"
      ]
    },
    {
      "cell_type": "code",
      "source": [
        "# Lets create/engineer a  2 D data set manually with random numbers  to fit into a sigmoid curve\n",
        "\n",
        "X=np.arange(0,100,5)\n",
        "#X = rand.sample(range(0, 100), 10)\n",
        "X=np.array(X)\n",
        "X"
      ],
      "metadata": {
        "id": "nWdktWFq85D6",
        "colab": {
          "base_uri": "https://localhost:8080/"
        },
        "outputId": "98c4f657-68ad-4b47-937f-0cd456623a48"
      },
      "execution_count": 3,
      "outputs": [
        {
          "output_type": "execute_result",
          "data": {
            "text/plain": [
              "array([ 0,  5, 10, 15, 20, 25, 30, 35, 40, 45, 50, 55, 60, 65, 70, 75, 80,\n",
              "       85, 90, 95])"
            ]
          },
          "metadata": {},
          "execution_count": 3
        }
      ]
    },
    {
      "cell_type": "code",
      "source": [
        "YTemp= 2*X - 50\n",
        "Y=1/(1 + np.exp(-YTemp))\n",
        "print(Y)"
      ],
      "metadata": {
        "colab": {
          "base_uri": "https://localhost:8080/"
        },
        "id": "ZkcZQWzum1_h",
        "outputId": "90d5681b-5774-40bc-9221-85258ac07d65"
      },
      "execution_count": 4,
      "outputs": [
        {
          "output_type": "stream",
          "name": "stdout",
          "text": [
            "[0.        0.        0.        0.        0.0000454 0.5       0.9999546\n",
            " 1.        1.        1.        1.        1.        1.        1.\n",
            " 1.        1.        1.        1.        1.        1.       ]\n"
          ]
        }
      ]
    },
    {
      "cell_type": "code",
      "source": [
        "pd.options.display.float_format = '{:.2f}'.format\n",
        "np.set_printoptions(suppress=True)"
      ],
      "metadata": {
        "id": "GJUYFHbbNO6N"
      },
      "execution_count": 5,
      "outputs": []
    },
    {
      "cell_type": "code",
      "source": [
        "# Lets visualize the Actual Data Set\n",
        "\n",
        "plt.scatter(x=X,y=Y)\n",
        "plt.plot(X,Y,c='b')\n",
        "plt.show()"
      ],
      "metadata": {
        "colab": {
          "base_uri": "https://localhost:8080/",
          "height": 451
        },
        "id": "MkVJUVu-I4TS",
        "outputId": "d280cf4c-f19a-4960-b5a3-6482b69ada75"
      },
      "execution_count": 6,
      "outputs": [
        {
          "output_type": "execute_result",
          "data": {
            "text/plain": [
              "<matplotlib.collections.PathCollection at 0x7f78749b6880>"
            ]
          },
          "metadata": {},
          "execution_count": 6
        },
        {
          "output_type": "execute_result",
          "data": {
            "text/plain": [
              "[<matplotlib.lines.Line2D at 0x7f78749c8e50>]"
            ]
          },
          "metadata": {},
          "execution_count": 6
        },
        {
          "output_type": "display_data",
          "data": {
            "text/plain": [
              "<Figure size 640x480 with 1 Axes>"
            ],
            "image/png": "[encoded data removed]"
          },
          "metadata": {}
        }
      ]
    },
    {
      "cell_type": "code",
      "source": [
        "# Cool , so we now know that the sigmoid curve that bst fits the data is 1/(1 +e^-(2x-50))\n",
        "# We could think of this as a toy data set because in reality we never data points that actually fall on one the curve .\n",
        "# However , for the objective of this notebook , its convenient.\n",
        "# We have plotted both curve\n",
        "# Lets see if gradient descent can arrive at the same curve  "
      ],
      "metadata": {
        "id": "5QedL6KaF-XZ"
      },
      "execution_count": 7,
      "outputs": []
    },
    {
      "cell_type": "code",
      "source": [
        "# Note :\n",
        "# Variables naming convention\n",
        "# We have used small letters for scalars and CAPS for Vectors"
      ],
      "metadata": {
        "id": "cArOCPopIYke"
      },
      "execution_count": 8,
      "outputs": []
    },
    {
      "cell_type": "code",
      "source": [
        "# Lets define our loss function \n",
        "\n",
        "def crossEntropty_loss(Y_True,Y_Pred):\n",
        "  #loss=np.sum(np.square(Y_True-Y_Pred))/Y_True.shape[0]\n",
        "  #print('Y_True',Y_True)\n",
        "  #print('Y_Pred',Y_Pred)\n",
        "  #print('Y_True.shape[0]',Y_True.shape[0])\n",
        "  epsilon = 1e-5 # Small constant to prevent log 0 from happening \n",
        "  #loss= - np.sum( (Y_Pred * (np.log(Y_True))) + ((1-Y_Pred) * (np.log(1-Y_True))))/Y_True.shape[0]\n",
        "  loss= - np.sum( Y_Pred * np.log(Y_True + epsilon) + ((1-Y_Pred) * (np.log(1 - Y_True + epsilon))) )/Y_True.shape[0]\n",
        "  #loss = - np.sum( t * np.log(y) + (1-t) * np.log(1-y) ) / N # Cross entropy , divided by N because over all samples\n",
        "\n",
        "  return loss\n"
      ],
      "metadata": {
        "id": "YLfSUZlKzUS7"
      },
      "execution_count": 9,
      "outputs": []
    },
    {
      "cell_type": "code",
      "source": [
        "# Lets define our sigmoid function on top of linear function\n",
        "def sigmoidFunc(X,W):\n",
        "  YTemp=W[0]*X +  W[1]\n",
        "  Y=1/(1 + np.exp(-YTemp))\n",
        "  return Y\n"
      ],
      "metadata": {
        "id": "gg7hJWkhHFly"
      },
      "execution_count": 10,
      "outputs": []
    },
    {
      "cell_type": "code",
      "source": [
        "# Start at a random weight\n",
        "W=np.ones(shape=2)\n",
        "W[0]=rand.randint(5,10)\n",
        "W[1]=rand.randint(5,10)"
      ],
      "metadata": {
        "id": "yo3eRcaII1vA"
      },
      "execution_count": 11,
      "outputs": []
    },
    {
      "cell_type": "code",
      "source": [
        "print(W[0])\n",
        "print(W[1])"
      ],
      "metadata": {
        "colab": {
          "base_uri": "https://localhost:8080/"
        },
        "id": "BrD3usdrPsu7",
        "outputId": "a7e5a9ed-74b4-4008-f53d-261299d4c301"
      },
      "execution_count": 12,
      "outputs": [
        {
          "output_type": "stream",
          "name": "stdout",
          "text": [
            "9.0\n",
            "6.0\n"
          ]
        }
      ]
    },
    {
      "cell_type": "code",
      "source": [
        "# Now we have some random weights , lets visualize what the predicted line ...\n",
        "# ... looks like with these weights agianst the actual line"
      ],
      "metadata": {
        "id": "fB0oRE3xpwhU"
      },
      "execution_count": 13,
      "outputs": []
    },
    {
      "cell_type": "code",
      "source": [
        "# Lets see what the line looks like at this point\n",
        "fig = plt.figure(figsize=(8,5))\n",
        "plt.plot(X,sigmoidFunc(X,W),c='r')# predicted line in red\n",
        "plt.plot(X,Y,c='b')# actual line in blue\n",
        "#plt.plot(X,sigmoidFunc(X,W),c='r')# predicted line in red\n",
        "loss=crossEntropty_loss(sigmoidFunc(X,W),Y)\n",
        "print(loss)"
      ],
      "metadata": {
        "colab": {
          "base_uri": "https://localhost:8080/",
          "height": 467
        },
        "id": "nPRpca9TJ039",
        "outputId": "e01a827e-3f3b-4bcf-dfb2-58f910b9e7dc"
      },
      "execution_count": 14,
      "outputs": [
        {
          "output_type": "execute_result",
          "data": {
            "text/plain": [
              "[<matplotlib.lines.Line2D at 0x7f7872054d90>]"
            ]
          },
          "metadata": {},
          "execution_count": 14
        },
        {
          "output_type": "execute_result",
          "data": {
            "text/plain": [
              "[<matplotlib.lines.Line2D at 0x7f7872066130>]"
            ]
          },
          "metadata": {},
          "execution_count": 14
        },
        {
          "output_type": "stream",
          "name": "stdout",
          "text": [
            "2.8903229573221583\n"
          ]
        },
        {
          "output_type": "display_data",
          "data": {
            "text/plain": [
              "<Figure size 800x500 with 1 Axes>"
            ],
            "image/png": "[encoded data removed]"
          },
          "metadata": {}
        }
      ]
    },
    {
      "cell_type": "code",
      "source": [
        "# We can see the predicted line and actual line in the above"
      ],
      "metadata": {
        "id": "7cY4LZA8Tix7"
      },
      "execution_count": 15,
      "outputs": []
    },
    {
      "cell_type": "markdown",
      "metadata": {
        "id": "-rffGHiKzKtR"
      },
      "source": [
        "##  Calculate Derivatives"
      ]
    },
    {
      "cell_type": "markdown",
      "source": [
        "- We would need to calculate the partial derviatives of of the two variables in the loss function which will be the two variables in the sigmoid function which are 'a' and 'b'\n",
        "- For for partial derivatives will be updated in this section in the next version of this file\n"
      ],
      "metadata": {
        "id": "mqdL7J2pt13s"
      }
    },
    {
      "cell_type": "code",
      "source": [
        "# Lets write a func to calculate these gradients\n",
        "def grad(X,Y,P):\n",
        "  \n",
        "  # add  a dummy layer of 1 's \n",
        "  X1=np.vstack((np.ones_like(X),X))\n",
        "\n",
        "  #calculate term in derivative which we will need later\n",
        "  E=np.abs(Y-P)\n",
        "\n",
        "  #calculate number of samples \n",
        "  N=np.shape(X)[0]\n",
        "\n",
        "  #Calculate gradient \n",
        "  G=  1.0/N  *  X1.dot(E)/N\n",
        "\n",
        "  return G"
      ],
      "metadata": {
        "id": "wWpj3Xi_03G9"
      },
      "execution_count": 16,
      "outputs": []
    },
    {
      "cell_type": "code",
      "source": [],
      "metadata": {
        "id": "ll2KKk2UngnN"
      },
      "execution_count": 16,
      "outputs": []
    },
    {
      "cell_type": "markdown",
      "metadata": {
        "id": "Lvtt3Evw03Ye"
      },
      "source": [
        "##  Implement Gradient Descent for 1 iteration"
      ]
    },
    {
      "cell_type": "code",
      "source": [
        "# We have already assigned an arbitrary value for weights (aka m and c here)\n",
        "print('W',W)\n",
        "\n",
        "#Lets also re-print our X,Y\n",
        "print('X',X) # input values\n",
        "print('Y',Y) # Actual Output\n",
        "\n",
        "#Alrighty, we are all set to proceed"
      ],
      "metadata": {
        "colab": {
          "base_uri": "https://localhost:8080/"
        },
        "id": "gUSGgX4tdKgW",
        "outputId": "80ef0e87-cda8-4702-e4e5-10be19f8c48a"
      },
      "execution_count": 17,
      "outputs": [
        {
          "output_type": "stream",
          "name": "stdout",
          "text": [
            "W [9. 6.]\n",
            "X [ 0  5 10 15 20 25 30 35 40 45 50 55 60 65 70 75 80 85 90 95]\n",
            "Y [0.        0.        0.        0.        0.0000454 0.5       0.9999546\n",
            " 1.        1.        1.        1.        1.        1.        1.\n",
            " 1.        1.        1.        1.        1.        1.       ]\n"
          ]
        }
      ]
    },
    {
      "cell_type": "code",
      "source": [
        "# Lets use LR as 0.0001\n",
        "lr=10\n",
        "\n",
        "# Lets do one iteration and of GD and view results\n",
        "\n",
        "P=sigmoidFunc(X,W)     #Prediction with current weights\n",
        "gradient=grad(X,Y,P)  #Calculate the gradient at this point\n",
        "\n",
        "print(\"gradient\",gradient)\n",
        "\n",
        "#Lets update the weights \n",
        "W1= W - lr*gradient\n",
        "# Why are we subtrating here ? Because we want to go in the opposite direction of the gradient"
      ],
      "metadata": {
        "id": "37OSVPIG09Av",
        "colab": {
          "base_uri": "https://localhost:8080/"
        },
        "outputId": "79a9bafd-e1c2-41e5-dc46-9e61f0742029"
      },
      "execution_count": 18,
      "outputs": [
        {
          "output_type": "stream",
          "name": "stdout",
          "text": [
            "gradient [0.01374382 0.15625114]\n"
          ]
        }
      ]
    },
    {
      "cell_type": "code",
      "source": [
        "W1"
      ],
      "metadata": {
        "colab": {
          "base_uri": "https://localhost:8080/"
        },
        "id": "46FWnHrqLMWE",
        "outputId": "e8983a2e-7c37-4a0c-fe9c-cb2792867c61"
      },
      "execution_count": 19,
      "outputs": [
        {
          "output_type": "execute_result",
          "data": {
            "text/plain": [
              "array([8.86256182, 4.43748865])"
            ]
          },
          "metadata": {},
          "execution_count": 19
        }
      ]
    },
    {
      "cell_type": "code",
      "source": [
        "# Now lets plot orginal line , random line & line after first iteration in one graph\n",
        "# Lets see what the line looks like at this point\n",
        "fig = plt.figure(figsize=(8,5))\n",
        "plt.plot(X,sigmoidFunc(X,W),c='r')# starting line in red\n",
        "plt.plot(X,sigmoidFunc(X,W1),c='g')#  line after one iteration in green\n",
        "plt.plot(X,Y,c='b')# actual line in blue\n",
        "\n",
        "# Neat , we can see it took a tiny step towards the best fit line/curve , lets proceed"
      ],
      "metadata": {
        "colab": {
          "base_uri": "https://localhost:8080/",
          "height": 467
        },
        "id": "XQXiQY2UlTN7",
        "outputId": "a29d8bf3-e1ab-4588-c14d-287486fc4986"
      },
      "execution_count": 20,
      "outputs": [
        {
          "output_type": "execute_result",
          "data": {
            "text/plain": [
              "[<matplotlib.lines.Line2D at 0x7f7872018a90>]"
            ]
          },
          "metadata": {},
          "execution_count": 20
        },
        {
          "output_type": "execute_result",
          "data": {
            "text/plain": [
              "[<matplotlib.lines.Line2D at 0x7f7872018c10>]"
            ]
          },
          "metadata": {},
          "execution_count": 20
        },
        {
          "output_type": "execute_result",
          "data": {
            "text/plain": [
              "[<matplotlib.lines.Line2D at 0x7f7872018eb0>]"
            ]
          },
          "metadata": {},
          "execution_count": 20
        },
        {
          "output_type": "display_data",
          "data": {
            "text/plain": [
              "<Figure size 800x500 with 1 Axes>"
            ],
            "image/png": "[encoded data removed]"
          },
          "metadata": {}
        }
      ]
    },
    {
      "cell_type": "code",
      "source": [],
      "metadata": {
        "id": "T12WQEFXmNAq"
      },
      "execution_count": 20,
      "outputs": []
    },
    {
      "cell_type": "code",
      "source": [],
      "metadata": {
        "id": "AkQOytKYpGSD"
      },
      "execution_count": 20,
      "outputs": []
    },
    {
      "cell_type": "markdown",
      "metadata": {
        "id": "F2gia3EDpG0i"
      },
      "source": [
        "##  Implement Gradient Descent in its entirity"
      ]
    },
    {
      "cell_type": "code",
      "source": [
        "# We have already assigned an arbitrary value for weights (aka m and c here)\n",
        "print('W',W)\n",
        "\n",
        "#Lets also re-print our X,Y\n",
        "print('X',X) # input values\n",
        "print('Y',Y) # Actual Output\n",
        "\n",
        "#Alrighty, we are all set to proceed"
      ],
      "metadata": {
        "colab": {
          "base_uri": "https://localhost:8080/"
        },
        "outputId": "0d7107de-a61c-4685-fc9f-599932e08190",
        "id": "Ywbh9T9opG0j"
      },
      "execution_count": 21,
      "outputs": [
        {
          "output_type": "stream",
          "name": "stdout",
          "text": [
            "W [9. 6.]\n",
            "X [ 0  5 10 15 20 25 30 35 40 45 50 55 60 65 70 75 80 85 90 95]\n",
            "Y [0.        0.        0.        0.        0.0000454 0.5       0.9999546\n",
            " 1.        1.        1.        1.        1.        1.        1.\n",
            " 1.        1.        1.        1.        1.        1.       ]\n"
          ]
        }
      ]
    },
    {
      "cell_type": "code",
      "source": [
        "# Lets use LR as 0.001\n",
        "lr=3\n",
        "totalIterCount=100 # Total no of iterations allowed\n",
        "itercount=0 #Current iteration number\n",
        "deltaWtThresh=0.1 #0.006\n",
        "print('deltaWtThresh',deltaWtThresh)\n",
        "deltaWt=0 #Random initialization\n",
        "#P=linearFunc(X,W)\n",
        "#initLoss=MSE(Y,P) # This is loss with current weights\n",
        "\n",
        "fig = plt.figure(figsize=(8,5))\n",
        "# Lets plot the actual line and initial line \n",
        "plt.plot(X,sigmoidFunc(X,W),c='r')# starting line in red\n",
        "#plt.plot(X,Y,c='b')# actual line in blue\n",
        "\n",
        "\n",
        "# We will now do multiple iterations\n",
        "# Stopping condition ? Either max iterations are reached or change in wts is less than a certain th\n",
        "#But why not monitor loss and just stop when loss starts increasing , because in this case it will work , this is a simple MSE loss func\n",
        "# In actuality loss functions are more complex and we are trying to code with those in mind\n",
        "\n",
        "while(True):\n",
        "    P=sigmoidFunc(X,W)     #Prediction with current weights\n",
        "    gradient=grad(X,Y,P)  #Calculate the gradient at this point\n",
        "    W_Updated=W - lr*gradient\n",
        "    currLoss=crossEntropty_loss(Y,P)      \n",
        "    print('currLoss',currLoss) #We are printing this just for info\n",
        "    deltaWt=W_Updated - W\n",
        "    #print('deltaWt',deltaWt)\n",
        "    #print('abs',np.sum(abs(deltaWt)))\n",
        "\n",
        "    W=W_Updated\n",
        "    itercount=itercount+1\n",
        "    plt.plot(X,sigmoidFunc(X,W),c='g')#  line after one iteration in green\n",
        "\n",
        "    if(itercount>=totalIterCount):\n",
        "      print('breaking itercount',itercount)\n",
        "      plt.plot(X,sigmoidFunc(X,W),c='k')#  line after one iteration in green\n",
        "      break\n",
        "    if(np.sum(abs(deltaWt)) <= deltaWtThresh):\n",
        "      print('breaking deltaWt',deltaWt)\n",
        "      plt.plot(X,sigmoidFunc(X,W),c='k')#\n",
        "      break\n",
        " \n",
        "  \n",
        "# Lets plot the actual line and initial line once again\n",
        "#plt.plot(X,Y,c='b')# actual line in blue  \n"
      ],
      "metadata": {
        "colab": {
          "base_uri": "https://localhost:8080/",
          "height": 1000
        },
        "id": "sdCwImqopG0l",
        "outputId": "98b7e69a-9661-4385-fcdb-936fec70ef1f"
      },
      "execution_count": 22,
      "outputs": [
        {
          "output_type": "stream",
          "name": "stdout",
          "text": [
            "deltaWtThresh 0.1\n"
          ]
        },
        {
          "output_type": "execute_result",
          "data": {
            "text/plain": [
              "[<matplotlib.lines.Line2D at 0x7f787200b3d0>]"
            ]
          },
          "metadata": {},
          "execution_count": 22
        },
        {
          "output_type": "stream",
          "name": "stdout",
          "text": [
            "currLoss 2.8258515311780568\n"
          ]
        },
        {
          "output_type": "execute_result",
          "data": {
            "text/plain": [
              "[<matplotlib.lines.Line2D at 0x7f7871f97850>]"
            ]
          },
          "metadata": {},
          "execution_count": 22
        },
        {
          "output_type": "stream",
          "name": "stdout",
          "text": [
            "currLoss 2.8250037203191214\n"
          ]
        },
        {
          "output_type": "execute_result",
          "data": {
            "text/plain": [
              "[<matplotlib.lines.Line2D at 0x7f7871f97af0>]"
            ]
          },
          "metadata": {},
          "execution_count": 22
        },
        {
          "output_type": "stream",
          "name": "stdout",
          "text": [
            "currLoss 2.8236541023470383\n"
          ]
        },
        {
          "output_type": "execute_result",
          "data": {
            "text/plain": [
              "[<matplotlib.lines.Line2D at 0x7f7871f979a0>]"
            ]
          },
          "metadata": {},
          "execution_count": 22
        },
        {
          "output_type": "stream",
          "name": "stdout",
          "text": [
            "currLoss 2.821510550806382\n"
          ]
        },
        {
          "output_type": "execute_result",
          "data": {
            "text/plain": [
              "[<matplotlib.lines.Line2D at 0x7f7871f97dc0>]"
            ]
          },
          "metadata": {},
          "execution_count": 22
        },
        {
          "output_type": "stream",
          "name": "stdout",
          "text": [
            "currLoss 2.818118302923217\n"
          ]
        },
        {
          "output_type": "execute_result",
          "data": {
            "text/plain": [
              "[<matplotlib.lines.Line2D at 0x7f7871fb30a0>]"
            ]
          },
          "metadata": {},
          "execution_count": 22
        },
        {
          "output_type": "stream",
          "name": "stdout",
          "text": [
            "currLoss 2.812780529178923\n"
          ]
        },
        {
          "output_type": "execute_result",
          "data": {
            "text/plain": [
              "[<matplotlib.lines.Line2D at 0x7f7871fb34f0>]"
            ]
          },
          "metadata": {},
          "execution_count": 22
        },
        {
          "output_type": "stream",
          "name": "stdout",
          "text": [
            "currLoss 2.8044564711794466\n"
          ]
        },
        {
          "output_type": "execute_result",
          "data": {
            "text/plain": [
              "[<matplotlib.lines.Line2D at 0x7f7871fb38e0>]"
            ]
          },
          "metadata": {},
          "execution_count": 22
        },
        {
          "output_type": "stream",
          "name": "stdout",
          "text": [
            "currLoss 2.791655380712135\n"
          ]
        },
        {
          "output_type": "execute_result",
          "data": {
            "text/plain": [
              "[<matplotlib.lines.Line2D at 0x7f7871fb3a90>]"
            ]
          },
          "metadata": {},
          "execution_count": 22
        },
        {
          "output_type": "stream",
          "name": "stdout",
          "text": [
            "currLoss 2.7723859242675997\n"
          ]
        },
        {
          "output_type": "execute_result",
          "data": {
            "text/plain": [
              "[<matplotlib.lines.Line2D at 0x7f7871fb3d30>]"
            ]
          },
          "metadata": {},
          "execution_count": 22
        },
        {
          "output_type": "stream",
          "name": "stdout",
          "text": [
            "currLoss 2.744293890153122\n"
          ]
        },
        {
          "output_type": "execute_result",
          "data": {
            "text/plain": [
              "[<matplotlib.lines.Line2D at 0x7f7871fc00d0>]"
            ]
          },
          "metadata": {},
          "execution_count": 22
        },
        {
          "output_type": "stream",
          "name": "stdout",
          "text": [
            "currLoss 2.7051948904061693\n"
          ]
        },
        {
          "output_type": "execute_result",
          "data": {
            "text/plain": [
              "[<matplotlib.lines.Line2D at 0x7f7871fc0310>]"
            ]
          },
          "metadata": {},
          "execution_count": 22
        },
        {
          "output_type": "stream",
          "name": "stdout",
          "text": [
            "currLoss 2.6541471322047636\n"
          ]
        },
        {
          "output_type": "execute_result",
          "data": {
            "text/plain": [
              "[<matplotlib.lines.Line2D at 0x7f7871fc0640>]"
            ]
          },
          "metadata": {},
          "execution_count": 22
        },
        {
          "output_type": "stream",
          "name": "stdout",
          "text": [
            "currLoss 2.5927890528220408\n"
          ]
        },
        {
          "output_type": "execute_result",
          "data": {
            "text/plain": [
              "[<matplotlib.lines.Line2D at 0x7f7871fc07c0>]"
            ]
          },
          "metadata": {},
          "execution_count": 22
        },
        {
          "output_type": "stream",
          "name": "stdout",
          "text": [
            "currLoss 2.5259632972564807\n"
          ]
        },
        {
          "output_type": "execute_result",
          "data": {
            "text/plain": [
              "[<matplotlib.lines.Line2D at 0x7f7871fc0a30>]"
            ]
          },
          "metadata": {},
          "execution_count": 22
        },
        {
          "output_type": "stream",
          "name": "stdout",
          "text": [
            "currLoss 2.4605638221846124\n"
          ]
        },
        {
          "output_type": "execute_result",
          "data": {
            "text/plain": [
              "[<matplotlib.lines.Line2D at 0x7f7871fc0cd0>]"
            ]
          },
          "metadata": {},
          "execution_count": 22
        },
        {
          "output_type": "stream",
          "name": "stdout",
          "text": [
            "currLoss 2.4029264741984897\n"
          ]
        },
        {
          "output_type": "execute_result",
          "data": {
            "text/plain": [
              "[<matplotlib.lines.Line2D at 0x7f7871fcf070>]"
            ]
          },
          "metadata": {},
          "execution_count": 22
        },
        {
          "output_type": "stream",
          "name": "stdout",
          "text": [
            "currLoss 2.356636102069122\n"
          ]
        },
        {
          "output_type": "execute_result",
          "data": {
            "text/plain": [
              "[<matplotlib.lines.Line2D at 0x7f7871fcf340>]"
            ]
          },
          "metadata": {},
          "execution_count": 22
        },
        {
          "output_type": "stream",
          "name": "stdout",
          "text": [
            "currLoss 2.3221546249116907\n"
          ]
        },
        {
          "output_type": "execute_result",
          "data": {
            "text/plain": [
              "[<matplotlib.lines.Line2D at 0x7f7871fc0250>]"
            ]
          },
          "metadata": {},
          "execution_count": 22
        },
        {
          "output_type": "stream",
          "name": "stdout",
          "text": [
            "currLoss 2.297883025760114\n"
          ]
        },
        {
          "output_type": "execute_result",
          "data": {
            "text/plain": [
              "[<matplotlib.lines.Line2D at 0x7f7871fcf610>]"
            ]
          },
          "metadata": {},
          "execution_count": 22
        },
        {
          "output_type": "stream",
          "name": "stdout",
          "text": [
            "currLoss 2.281470960332787\n"
          ]
        },
        {
          "output_type": "execute_result",
          "data": {
            "text/plain": [
              "[<matplotlib.lines.Line2D at 0x7f7871fcf8b0>]"
            ]
          },
          "metadata": {},
          "execution_count": 22
        },
        {
          "output_type": "stream",
          "name": "stdout",
          "text": [
            "currLoss 2.2706726980493785\n"
          ]
        },
        {
          "output_type": "execute_result",
          "data": {
            "text/plain": [
              "[<matplotlib.lines.Line2D at 0x7f7871fcfb50>]"
            ]
          },
          "metadata": {},
          "execution_count": 22
        },
        {
          "output_type": "stream",
          "name": "stdout",
          "text": [
            "currLoss 2.263695268214349\n"
          ]
        },
        {
          "output_type": "execute_result",
          "data": {
            "text/plain": [
              "[<matplotlib.lines.Line2D at 0x7f7871fcfdf0>]"
            ]
          },
          "metadata": {},
          "execution_count": 22
        },
        {
          "output_type": "stream",
          "name": "stdout",
          "text": [
            "currLoss 2.259239227493355\n"
          ]
        },
        {
          "output_type": "execute_result",
          "data": {
            "text/plain": [
              "[<matplotlib.lines.Line2D at 0x7f7871f5e0d0>]"
            ]
          },
          "metadata": {},
          "execution_count": 22
        },
        {
          "output_type": "stream",
          "name": "stdout",
          "text": [
            "currLoss 2.2564146947466437\n"
          ]
        },
        {
          "output_type": "execute_result",
          "data": {
            "text/plain": [
              "[<matplotlib.lines.Line2D at 0x7f7871f5e370>]"
            ]
          },
          "metadata": {},
          "execution_count": 22
        },
        {
          "output_type": "stream",
          "name": "stdout",
          "text": [
            "currLoss 2.2546328197016985\n"
          ]
        },
        {
          "output_type": "execute_result",
          "data": {
            "text/plain": [
              "[<matplotlib.lines.Line2D at 0x7f7871f5e640>]"
            ]
          },
          "metadata": {},
          "execution_count": 22
        },
        {
          "output_type": "stream",
          "name": "stdout",
          "text": [
            "currLoss 2.2535120849008043\n"
          ]
        },
        {
          "output_type": "execute_result",
          "data": {
            "text/plain": [
              "[<matplotlib.lines.Line2D at 0x7f7871f5e8e0>]"
            ]
          },
          "metadata": {},
          "execution_count": 22
        },
        {
          "output_type": "stream",
          "name": "stdout",
          "text": [
            "currLoss 2.252808515079459\n"
          ]
        },
        {
          "output_type": "execute_result",
          "data": {
            "text/plain": [
              "[<matplotlib.lines.Line2D at 0x7f7871f5eb80>]"
            ]
          },
          "metadata": {},
          "execution_count": 22
        },
        {
          "output_type": "stream",
          "name": "stdout",
          "text": [
            "currLoss 2.252367355417985\n"
          ]
        },
        {
          "output_type": "execute_result",
          "data": {
            "text/plain": [
              "[<matplotlib.lines.Line2D at 0x7f7871f5ee20>]"
            ]
          },
          "metadata": {},
          "execution_count": 22
        },
        {
          "output_type": "stream",
          "name": "stdout",
          "text": [
            "currLoss 2.2520909408535426\n"
          ]
        },
        {
          "output_type": "execute_result",
          "data": {
            "text/plain": [
              "[<matplotlib.lines.Line2D at 0x7f7871f6f100>]"
            ]
          },
          "metadata": {},
          "execution_count": 22
        },
        {
          "output_type": "stream",
          "name": "stdout",
          "text": [
            "currLoss 2.251917830377313\n"
          ]
        },
        {
          "output_type": "execute_result",
          "data": {
            "text/plain": [
              "[<matplotlib.lines.Line2D at 0x7f7871f6f3a0>]"
            ]
          },
          "metadata": {},
          "execution_count": 22
        },
        {
          "output_type": "stream",
          "name": "stdout",
          "text": [
            "currLoss 2.2518094479622612\n"
          ]
        },
        {
          "output_type": "execute_result",
          "data": {
            "text/plain": [
              "[<matplotlib.lines.Line2D at 0x7f7871f6f640>]"
            ]
          },
          "metadata": {},
          "execution_count": 22
        },
        {
          "output_type": "stream",
          "name": "stdout",
          "text": [
            "currLoss 2.2517416034371074\n"
          ]
        },
        {
          "output_type": "execute_result",
          "data": {
            "text/plain": [
              "[<matplotlib.lines.Line2D at 0x7f7871f6f8e0>]"
            ]
          },
          "metadata": {},
          "execution_count": 22
        },
        {
          "output_type": "stream",
          "name": "stdout",
          "text": [
            "currLoss 2.2516991394244936\n"
          ]
        },
        {
          "output_type": "execute_result",
          "data": {
            "text/plain": [
              "[<matplotlib.lines.Line2D at 0x7f7871f6fb80>]"
            ]
          },
          "metadata": {},
          "execution_count": 22
        },
        {
          "output_type": "stream",
          "name": "stdout",
          "text": [
            "currLoss 2.2516725630271766\n"
          ]
        },
        {
          "output_type": "execute_result",
          "data": {
            "text/plain": [
              "[<matplotlib.lines.Line2D at 0x7f7871f6fe20>]"
            ]
          },
          "metadata": {},
          "execution_count": 22
        },
        {
          "output_type": "stream",
          "name": "stdout",
          "text": [
            "currLoss 2.2516559307507817\n"
          ]
        },
        {
          "output_type": "execute_result",
          "data": {
            "text/plain": [
              "[<matplotlib.lines.Line2D at 0x7f7871f7e100>]"
            ]
          },
          "metadata": {},
          "execution_count": 22
        },
        {
          "output_type": "stream",
          "name": "stdout",
          "text": [
            "currLoss 2.2516455220845475\n"
          ]
        },
        {
          "output_type": "execute_result",
          "data": {
            "text/plain": [
              "[<matplotlib.lines.Line2D at 0x7f7871f7e3a0>]"
            ]
          },
          "metadata": {},
          "execution_count": 22
        },
        {
          "output_type": "stream",
          "name": "stdout",
          "text": [
            "currLoss 2.25163900833815\n"
          ]
        },
        {
          "output_type": "execute_result",
          "data": {
            "text/plain": [
              "[<matplotlib.lines.Line2D at 0x7f7871f7e670>]"
            ]
          },
          "metadata": {},
          "execution_count": 22
        },
        {
          "output_type": "stream",
          "name": "stdout",
          "text": [
            "currLoss 2.2516349320783293\n"
          ]
        },
        {
          "output_type": "execute_result",
          "data": {
            "text/plain": [
              "[<matplotlib.lines.Line2D at 0x7f7871f7e910>]"
            ]
          },
          "metadata": {},
          "execution_count": 22
        },
        {
          "output_type": "stream",
          "name": "stdout",
          "text": [
            "currLoss 2.2516323811987293\n"
          ]
        },
        {
          "output_type": "execute_result",
          "data": {
            "text/plain": [
              "[<matplotlib.lines.Line2D at 0x7f7871f7ebb0>]"
            ]
          },
          "metadata": {},
          "execution_count": 22
        },
        {
          "output_type": "stream",
          "name": "stdout",
          "text": [
            "currLoss 2.2516307848916686\n"
          ]
        },
        {
          "output_type": "execute_result",
          "data": {
            "text/plain": [
              "[<matplotlib.lines.Line2D at 0x7f7871f7ee50>]"
            ]
          },
          "metadata": {},
          "execution_count": 22
        },
        {
          "output_type": "stream",
          "name": "stdout",
          "text": [
            "currLoss 2.2516297859446137\n"
          ]
        },
        {
          "output_type": "execute_result",
          "data": {
            "text/plain": [
              "[<matplotlib.lines.Line2D at 0x7f7871f8b130>]"
            ]
          },
          "metadata": {},
          "execution_count": 22
        },
        {
          "output_type": "stream",
          "name": "stdout",
          "text": [
            "currLoss 2.2516291608151193\n"
          ]
        },
        {
          "output_type": "execute_result",
          "data": {
            "text/plain": [
              "[<matplotlib.lines.Line2D at 0x7f7871f8b3d0>]"
            ]
          },
          "metadata": {},
          "execution_count": 22
        },
        {
          "output_type": "stream",
          "name": "stdout",
          "text": [
            "currLoss 2.2516287696107025\n"
          ]
        },
        {
          "output_type": "execute_result",
          "data": {
            "text/plain": [
              "[<matplotlib.lines.Line2D at 0x7f7871f8b670>]"
            ]
          },
          "metadata": {},
          "execution_count": 22
        },
        {
          "output_type": "stream",
          "name": "stdout",
          "text": [
            "currLoss 2.2516285247847394\n"
          ]
        },
        {
          "output_type": "execute_result",
          "data": {
            "text/plain": [
              "[<matplotlib.lines.Line2D at 0x7f7871f8b9d0>]"
            ]
          },
          "metadata": {},
          "execution_count": 22
        },
        {
          "output_type": "stream",
          "name": "stdout",
          "text": [
            "currLoss 2.2516283715447147\n"
          ]
        },
        {
          "output_type": "execute_result",
          "data": {
            "text/plain": [
              "[<matplotlib.lines.Line2D at 0x7f7871f8be20>]"
            ]
          },
          "metadata": {},
          "execution_count": 22
        },
        {
          "output_type": "stream",
          "name": "stdout",
          "text": [
            "currLoss 2.2516282755887995\n"
          ]
        },
        {
          "output_type": "execute_result",
          "data": {
            "text/plain": [
              "[<matplotlib.lines.Line2D at 0x7f7871f8f100>]"
            ]
          },
          "metadata": {},
          "execution_count": 22
        },
        {
          "output_type": "stream",
          "name": "stdout",
          "text": [
            "currLoss 2.2516282154258325\n"
          ]
        },
        {
          "output_type": "execute_result",
          "data": {
            "text/plain": [
              "[<matplotlib.lines.Line2D at 0x7f7871f8f3d0>]"
            ]
          },
          "metadata": {},
          "execution_count": 22
        },
        {
          "output_type": "stream",
          "name": "stdout",
          "text": [
            "currLoss 2.2516281775584748\n"
          ]
        },
        {
          "output_type": "execute_result",
          "data": {
            "text/plain": [
              "[<matplotlib.lines.Line2D at 0x7f7871f8f700>]"
            ]
          },
          "metadata": {},
          "execution_count": 22
        },
        {
          "output_type": "stream",
          "name": "stdout",
          "text": [
            "currLoss 2.2516281534485008\n"
          ]
        },
        {
          "output_type": "execute_result",
          "data": {
            "text/plain": [
              "[<matplotlib.lines.Line2D at 0x7f7871f8f8b0>]"
            ]
          },
          "metadata": {},
          "execution_count": 22
        },
        {
          "output_type": "stream",
          "name": "stdout",
          "text": [
            "currLoss 2.251628137579119\n"
          ]
        },
        {
          "output_type": "execute_result",
          "data": {
            "text/plain": [
              "[<matplotlib.lines.Line2D at 0x7f7871f8fbb0>]"
            ]
          },
          "metadata": {},
          "execution_count": 22
        },
        {
          "output_type": "stream",
          "name": "stdout",
          "text": [
            "currLoss 2.2516281261693836\n"
          ]
        },
        {
          "output_type": "execute_result",
          "data": {
            "text/plain": [
              "[<matplotlib.lines.Line2D at 0x7f7871f8fe80>]"
            ]
          },
          "metadata": {},
          "execution_count": 22
        },
        {
          "output_type": "stream",
          "name": "stdout",
          "text": [
            "currLoss 2.251628116231545\n"
          ]
        },
        {
          "output_type": "execute_result",
          "data": {
            "text/plain": [
              "[<matplotlib.lines.Line2D at 0x7f7871f100d0>]"
            ]
          },
          "metadata": {},
          "execution_count": 22
        },
        {
          "output_type": "stream",
          "name": "stdout",
          "text": [
            "currLoss 2.251628104719821\n"
          ]
        },
        {
          "output_type": "execute_result",
          "data": {
            "text/plain": [
              "[<matplotlib.lines.Line2D at 0x7f7871f8bbe0>]"
            ]
          },
          "metadata": {},
          "execution_count": 22
        },
        {
          "output_type": "stream",
          "name": "stdout",
          "text": [
            "currLoss 2.2516280875033177\n"
          ]
        },
        {
          "output_type": "execute_result",
          "data": {
            "text/plain": [
              "[<matplotlib.lines.Line2D at 0x7f7871f103d0>]"
            ]
          },
          "metadata": {},
          "execution_count": 22
        },
        {
          "output_type": "stream",
          "name": "stdout",
          "text": [
            "currLoss 2.251628057788047\n"
          ]
        },
        {
          "output_type": "execute_result",
          "data": {
            "text/plain": [
              "[<matplotlib.lines.Line2D at 0x7f7871f10670>]"
            ]
          },
          "metadata": {},
          "execution_count": 22
        },
        {
          "output_type": "stream",
          "name": "stdout",
          "text": [
            "currLoss 2.251628003360163\n"
          ]
        },
        {
          "output_type": "execute_result",
          "data": {
            "text/plain": [
              "[<matplotlib.lines.Line2D at 0x7f7871f10970>]"
            ]
          },
          "metadata": {},
          "execution_count": 22
        },
        {
          "output_type": "stream",
          "name": "stdout",
          "text": [
            "currLoss 2.251627901513799\n"
          ]
        },
        {
          "output_type": "execute_result",
          "data": {
            "text/plain": [
              "[<matplotlib.lines.Line2D at 0x7f7871f10be0>]"
            ]
          },
          "metadata": {},
          "execution_count": 22
        },
        {
          "output_type": "stream",
          "name": "stdout",
          "text": [
            "currLoss 2.251627709545254\n"
          ]
        },
        {
          "output_type": "execute_result",
          "data": {
            "text/plain": [
              "[<matplotlib.lines.Line2D at 0x7f7871f10e80>]"
            ]
          },
          "metadata": {},
          "execution_count": 22
        },
        {
          "output_type": "stream",
          "name": "stdout",
          "text": [
            "currLoss 2.2516273468264267\n"
          ]
        },
        {
          "output_type": "execute_result",
          "data": {
            "text/plain": [
              "[<matplotlib.lines.Line2D at 0x7f78720a6af0>]"
            ]
          },
          "metadata": {},
          "execution_count": 22
        },
        {
          "output_type": "stream",
          "name": "stdout",
          "text": [
            "currLoss 2.2516266609275912\n"
          ]
        },
        {
          "output_type": "execute_result",
          "data": {
            "text/plain": [
              "[<matplotlib.lines.Line2D at 0x7f787202e340>]"
            ]
          },
          "metadata": {},
          "execution_count": 22
        },
        {
          "output_type": "stream",
          "name": "stdout",
          "text": [
            "currLoss 2.2516253635533134\n"
          ]
        },
        {
          "output_type": "execute_result",
          "data": {
            "text/plain": [
              "[<matplotlib.lines.Line2D at 0x7f787202ee50>]"
            ]
          },
          "metadata": {},
          "execution_count": 22
        },
        {
          "output_type": "stream",
          "name": "stdout",
          "text": [
            "currLoss 2.2516229093674713\n"
          ]
        },
        {
          "output_type": "execute_result",
          "data": {
            "text/plain": [
              "[<matplotlib.lines.Line2D at 0x7f7871ea1fd0>]"
            ]
          },
          "metadata": {},
          "execution_count": 22
        },
        {
          "output_type": "stream",
          "name": "stdout",
          "text": [
            "currLoss 2.2516182667855658\n"
          ]
        },
        {
          "output_type": "execute_result",
          "data": {
            "text/plain": [
              "[<matplotlib.lines.Line2D at 0x7f7872033c70>]"
            ]
          },
          "metadata": {},
          "execution_count": 22
        },
        {
          "output_type": "stream",
          "name": "stdout",
          "text": [
            "currLoss 2.2516094844358254\n"
          ]
        },
        {
          "output_type": "execute_result",
          "data": {
            "text/plain": [
              "[<matplotlib.lines.Line2D at 0x7f7872044b20>]"
            ]
          },
          "metadata": {},
          "execution_count": 22
        },
        {
          "output_type": "stream",
          "name": "stdout",
          "text": [
            "currLoss 2.2515928712286764\n"
          ]
        },
        {
          "output_type": "execute_result",
          "data": {
            "text/plain": [
              "[<matplotlib.lines.Line2D at 0x7f787203bcd0>]"
            ]
          },
          "metadata": {},
          "execution_count": 22
        },
        {
          "output_type": "stream",
          "name": "stdout",
          "text": [
            "currLoss 2.2515614460199753\n"
          ]
        },
        {
          "output_type": "execute_result",
          "data": {
            "text/plain": [
              "[<matplotlib.lines.Line2D at 0x7f78749ea580>]"
            ]
          },
          "metadata": {},
          "execution_count": 22
        },
        {
          "output_type": "stream",
          "name": "stdout",
          "text": [
            "currLoss 2.251502007501129\n"
          ]
        },
        {
          "output_type": "execute_result",
          "data": {
            "text/plain": [
              "[<matplotlib.lines.Line2D at 0x7f787207a0a0>]"
            ]
          },
          "metadata": {},
          "execution_count": 22
        },
        {
          "output_type": "stream",
          "name": "stdout",
          "text": [
            "currLoss 2.2513896009623013\n"
          ]
        },
        {
          "output_type": "execute_result",
          "data": {
            "text/plain": [
              "[<matplotlib.lines.Line2D at 0x7f7871e96610>]"
            ]
          },
          "metadata": {},
          "execution_count": 22
        },
        {
          "output_type": "stream",
          "name": "stdout",
          "text": [
            "currLoss 2.2511770858148967\n"
          ]
        },
        {
          "output_type": "execute_result",
          "data": {
            "text/plain": [
              "[<matplotlib.lines.Line2D at 0x7f7872066520>]"
            ]
          },
          "metadata": {},
          "execution_count": 22
        },
        {
          "output_type": "stream",
          "name": "stdout",
          "text": [
            "currLoss 2.250775524964255\n"
          ]
        },
        {
          "output_type": "execute_result",
          "data": {
            "text/plain": [
              "[<matplotlib.lines.Line2D at 0x7f7872066f70>]"
            ]
          },
          "metadata": {},
          "execution_count": 22
        },
        {
          "output_type": "stream",
          "name": "stdout",
          "text": [
            "currLoss 2.2500175315054878\n"
          ]
        },
        {
          "output_type": "execute_result",
          "data": {
            "text/plain": [
              "[<matplotlib.lines.Line2D at 0x7f787208e430>]"
            ]
          },
          "metadata": {},
          "execution_count": 22
        },
        {
          "output_type": "stream",
          "name": "stdout",
          "text": [
            "currLoss 2.2485895072114097\n"
          ]
        },
        {
          "output_type": "execute_result",
          "data": {
            "text/plain": [
              "[<matplotlib.lines.Line2D at 0x7f7872088040>]"
            ]
          },
          "metadata": {},
          "execution_count": 22
        },
        {
          "output_type": "stream",
          "name": "stdout",
          "text": [
            "currLoss 2.2459089958035663\n"
          ]
        },
        {
          "output_type": "execute_result",
          "data": {
            "text/plain": [
              "[<matplotlib.lines.Line2D at 0x7f78720724c0>]"
            ]
          },
          "metadata": {},
          "execution_count": 22
        },
        {
          "output_type": "stream",
          "name": "stdout",
          "text": [
            "currLoss 2.240911810717167\n"
          ]
        },
        {
          "output_type": "execute_result",
          "data": {
            "text/plain": [
              "[<matplotlib.lines.Line2D at 0x7f7872072c40>]"
            ]
          },
          "metadata": {},
          "execution_count": 22
        },
        {
          "output_type": "stream",
          "name": "stdout",
          "text": [
            "currLoss 2.23171343332579\n"
          ]
        },
        {
          "output_type": "execute_result",
          "data": {
            "text/plain": [
              "[<matplotlib.lines.Line2D at 0x7f787207f400>]"
            ]
          },
          "metadata": {},
          "execution_count": 22
        },
        {
          "output_type": "stream",
          "name": "stdout",
          "text": [
            "currLoss 2.215170644435376\n"
          ]
        },
        {
          "output_type": "execute_result",
          "data": {
            "text/plain": [
              "[<matplotlib.lines.Line2D at 0x7f7872041250>]"
            ]
          },
          "metadata": {},
          "execution_count": 22
        },
        {
          "output_type": "stream",
          "name": "stdout",
          "text": [
            "currLoss 2.1866209683599216\n"
          ]
        },
        {
          "output_type": "execute_result",
          "data": {
            "text/plain": [
              "[<matplotlib.lines.Line2D at 0x7f78720419d0>]"
            ]
          },
          "metadata": {},
          "execution_count": 22
        },
        {
          "output_type": "stream",
          "name": "stdout",
          "text": [
            "currLoss 2.140662683185293\n"
          ]
        },
        {
          "output_type": "execute_result",
          "data": {
            "text/plain": [
              "[<matplotlib.lines.Line2D at 0x7f787204c0d0>]"
            ]
          },
          "metadata": {},
          "execution_count": 22
        },
        {
          "output_type": "stream",
          "name": "stdout",
          "text": [
            "currLoss 2.0742799595100316\n"
          ]
        },
        {
          "output_type": "execute_result",
          "data": {
            "text/plain": [
              "[<matplotlib.lines.Line2D at 0x7f78a6938fa0>]"
            ]
          },
          "metadata": {},
          "execution_count": 22
        },
        {
          "output_type": "stream",
          "name": "stdout",
          "text": [
            "currLoss 1.9917347596824158\n"
          ]
        },
        {
          "output_type": "execute_result",
          "data": {
            "text/plain": [
              "[<matplotlib.lines.Line2D at 0x7f787496d3d0>]"
            ]
          },
          "metadata": {},
          "execution_count": 22
        },
        {
          "output_type": "stream",
          "name": "stdout",
          "text": [
            "currLoss 1.9057584666309075\n"
          ]
        },
        {
          "output_type": "execute_result",
          "data": {
            "text/plain": [
              "[<matplotlib.lines.Line2D at 0x7f7871fd3610>]"
            ]
          },
          "metadata": {},
          "execution_count": 22
        },
        {
          "output_type": "stream",
          "name": "stdout",
          "text": [
            "currLoss 1.83063901725061\n"
          ]
        },
        {
          "output_type": "execute_result",
          "data": {
            "text/plain": [
              "[<matplotlib.lines.Line2D at 0x7f7871fdc3d0>]"
            ]
          },
          "metadata": {},
          "execution_count": 22
        },
        {
          "output_type": "stream",
          "name": "stdout",
          "text": [
            "currLoss 1.7739697731314004\n"
          ]
        },
        {
          "output_type": "execute_result",
          "data": {
            "text/plain": [
              "[<matplotlib.lines.Line2D at 0x7f78a42e2dc0>]"
            ]
          },
          "metadata": {},
          "execution_count": 22
        },
        {
          "output_type": "stream",
          "name": "stdout",
          "text": [
            "currLoss 1.7355399684277664\n"
          ]
        },
        {
          "output_type": "execute_result",
          "data": {
            "text/plain": [
              "[<matplotlib.lines.Line2D at 0x7f7874b4e640>]"
            ]
          },
          "metadata": {},
          "execution_count": 22
        },
        {
          "output_type": "stream",
          "name": "stdout",
          "text": [
            "currLoss 1.7112398965355318\n"
          ]
        },
        {
          "output_type": "execute_result",
          "data": {
            "text/plain": [
              "[<matplotlib.lines.Line2D at 0x7f7871eda0a0>]"
            ]
          },
          "metadata": {},
          "execution_count": 22
        },
        {
          "output_type": "stream",
          "name": "stdout",
          "text": [
            "currLoss 1.6965235105240875\n"
          ]
        },
        {
          "output_type": "execute_result",
          "data": {
            "text/plain": [
              "[<matplotlib.lines.Line2D at 0x7f7871eda310>]"
            ]
          },
          "metadata": {},
          "execution_count": 22
        },
        {
          "output_type": "stream",
          "name": "stdout",
          "text": [
            "currLoss 1.6878372554502925\n"
          ]
        },
        {
          "output_type": "execute_result",
          "data": {
            "text/plain": [
              "[<matplotlib.lines.Line2D at 0x7f7871eda4f0>]"
            ]
          },
          "metadata": {},
          "execution_count": 22
        },
        {
          "output_type": "stream",
          "name": "stdout",
          "text": [
            "currLoss 1.6827866110216025\n"
          ]
        },
        {
          "output_type": "execute_result",
          "data": {
            "text/plain": [
              "[<matplotlib.lines.Line2D at 0x7f7871eda8e0>]"
            ]
          },
          "metadata": {},
          "execution_count": 22
        },
        {
          "output_type": "stream",
          "name": "stdout",
          "text": [
            "currLoss 1.6798752455907895\n"
          ]
        },
        {
          "output_type": "execute_result",
          "data": {
            "text/plain": [
              "[<matplotlib.lines.Line2D at 0x7f7871edab80>]"
            ]
          },
          "metadata": {},
          "execution_count": 22
        },
        {
          "output_type": "stream",
          "name": "stdout",
          "text": [
            "currLoss 1.678205365244923\n"
          ]
        },
        {
          "output_type": "execute_result",
          "data": {
            "text/plain": [
              "[<matplotlib.lines.Line2D at 0x7f7871edadf0>]"
            ]
          },
          "metadata": {},
          "execution_count": 22
        },
        {
          "output_type": "stream",
          "name": "stdout",
          "text": [
            "currLoss 1.6772502908739373\n"
          ]
        },
        {
          "output_type": "execute_result",
          "data": {
            "text/plain": [
              "[<matplotlib.lines.Line2D at 0x7f7871eeb0d0>]"
            ]
          },
          "metadata": {},
          "execution_count": 22
        },
        {
          "output_type": "stream",
          "name": "stdout",
          "text": [
            "currLoss 1.6767049317161913\n"
          ]
        },
        {
          "output_type": "execute_result",
          "data": {
            "text/plain": [
              "[<matplotlib.lines.Line2D at 0x7f7871eeb100>]"
            ]
          },
          "metadata": {},
          "execution_count": 22
        },
        {
          "output_type": "stream",
          "name": "stdout",
          "text": [
            "currLoss 1.6763938138118661\n"
          ]
        },
        {
          "output_type": "execute_result",
          "data": {
            "text/plain": [
              "[<matplotlib.lines.Line2D at 0x7f7871eeb400>]"
            ]
          },
          "metadata": {},
          "execution_count": 22
        },
        {
          "output_type": "stream",
          "name": "stdout",
          "text": [
            "currLoss 1.6762164203042542\n"
          ]
        },
        {
          "output_type": "execute_result",
          "data": {
            "text/plain": [
              "[<matplotlib.lines.Line2D at 0x7f7871eeb640>]"
            ]
          },
          "metadata": {},
          "execution_count": 22
        },
        {
          "output_type": "stream",
          "name": "stdout",
          "text": [
            "currLoss 1.676115304276145\n"
          ]
        },
        {
          "output_type": "execute_result",
          "data": {
            "text/plain": [
              "[<matplotlib.lines.Line2D at 0x7f7871eeb8e0>]"
            ]
          },
          "metadata": {},
          "execution_count": 22
        },
        {
          "output_type": "stream",
          "name": "stdout",
          "text": [
            "currLoss 1.6760576767915076\n"
          ]
        },
        {
          "output_type": "execute_result",
          "data": {
            "text/plain": [
              "[<matplotlib.lines.Line2D at 0x7f7871eebb80>]"
            ]
          },
          "metadata": {},
          "execution_count": 22
        },
        {
          "output_type": "stream",
          "name": "stdout",
          "text": [
            "currLoss 1.6760248367285135\n"
          ]
        },
        {
          "output_type": "execute_result",
          "data": {
            "text/plain": [
              "[<matplotlib.lines.Line2D at 0x7f7871eebe20>]"
            ]
          },
          "metadata": {},
          "execution_count": 22
        },
        {
          "output_type": "stream",
          "name": "stdout",
          "text": [
            "currLoss 1.6760061221793634\n"
          ]
        },
        {
          "output_type": "execute_result",
          "data": {
            "text/plain": [
              "[<matplotlib.lines.Line2D at 0x7f7871efa100>]"
            ]
          },
          "metadata": {},
          "execution_count": 22
        },
        {
          "output_type": "stream",
          "name": "stdout",
          "text": [
            "currLoss 1.675995455485318\n"
          ]
        },
        {
          "output_type": "execute_result",
          "data": {
            "text/plain": [
              "[<matplotlib.lines.Line2D at 0x7f7871efa3a0>]"
            ]
          },
          "metadata": {},
          "execution_count": 22
        },
        {
          "output_type": "stream",
          "name": "stdout",
          "text": [
            "currLoss 1.6759893715525522\n"
          ]
        },
        {
          "output_type": "execute_result",
          "data": {
            "text/plain": [
              "[<matplotlib.lines.Line2D at 0x7f7871efa640>]"
            ]
          },
          "metadata": {},
          "execution_count": 22
        },
        {
          "output_type": "stream",
          "name": "stdout",
          "text": [
            "breaking itercount 100\n"
          ]
        },
        {
          "output_type": "execute_result",
          "data": {
            "text/plain": [
              "[<matplotlib.lines.Line2D at 0x7f7871efa8e0>]"
            ]
          },
          "metadata": {},
          "execution_count": 22
        },
        {
          "output_type": "display_data",
          "data": {
            "text/plain": [
              "<Figure size 800x500 with 1 Axes>"
            ],
            "image/png": "[encoded data removed]"
          },
          "metadata": {}
        }
      ]
    },
    {
      "cell_type": "markdown",
      "metadata": {
        "id": "IPi2sxgYIQYk"
      },
      "source": [
        "##  Result\n",
        "- As can be seen in the graph above , the vanilla gradient descent algorithm made its way towards the best fit sigmoid through an iterative process, loss kept decreasing , It was able to come close\n",
        "- Red curve indicates where it started\n",
        "- Each green curve indicates one iteration\n",
        "- Black curve indicates final position of the GD curve and the blue curve indicates  the actual line\n",
        "- Vanilla Gradient descent ran for 150 iterations and it made its way towards the best fit curve but did not reach the optimum\n",
        "- In future notebooks we can explore how adding momentum to gradient descent can help with faster convergence and better results"
      ]
    },
    {
      "cell_type": "code",
      "source": [
        "currLoss"
      ],
      "metadata": {
        "id": "5Z2VLONwVRri",
        "outputId": "f00fc310-7a7f-4653-a11d-dfc85df043ed",
        "colab": {
          "base_uri": "https://localhost:8080/"
        }
      },
      "execution_count": 23,
      "outputs": [
        {
          "output_type": "execute_result",
          "data": {
            "text/plain": [
              "1.6759893715525522"
            ]
          },
          "metadata": {},
          "execution_count": 23
        }
      ]
    },
    {
      "cell_type": "code",
      "source": [
        "itercount"
      ],
      "metadata": {
        "colab": {
          "base_uri": "https://localhost:8080/"
        },
        "id": "vRc0BjgEQFAr",
        "outputId": "ae0cb3cc-4c07-4824-e84a-06a9304c8742"
      },
      "execution_count": 24,
      "outputs": [
        {
          "output_type": "execute_result",
          "data": {
            "text/plain": [
              "100"
            ]
          },
          "metadata": {},
          "execution_count": 24
        }
      ]
    },
    {
      "cell_type": "code",
      "source": [
        "W"
      ],
      "metadata": {
        "id": "d81pS-J8VQV6",
        "outputId": "2a8a41ba-c5f8-428f-c09a-171a5b942772",
        "colab": {
          "base_uri": "https://localhost:8080/"
        }
      },
      "execution_count": 25,
      "outputs": [
        {
          "output_type": "execute_result",
          "data": {
            "text/plain": [
              "array([  5.67609228, -40.12097729])"
            ]
          },
          "metadata": {},
          "execution_count": 25
        }
      ]
    },
    {
      "cell_type": "markdown",
      "metadata": {
        "id": "wVdJL6N8L34A"
      },
      "source": [
        "##  References\n",
        "- The following references were used while creating this notebook:\n",
        "\n",
        "- https://towardsdatascience.com/derivative-of-sigmoid-and-cross-entropy-functions-5169525e6705 by Kiprono Elijah Koech\n",
        "\n",
        "- Post Graduation AI/ML Study Material by GL/UAT\n"
      ]
    }
  ],
  "metadata": {
    "colab": {
      "provenance": []
    },
    "kernelspec": {
      "display_name": "Python 3",
      "language": "python",
      "name": "python3"
    },
    "language_info": {
      "codemirror_mode": {
        "name": "ipython",
        "version": 3
      },
      "file_extension": ".py",
      "mimetype": "text/x-python",
      "name": "python",
      "nbconvert_exporter": "python",
      "pygments_lexer": "ipython3",
      "version": "3.8.3"
    },
    "gpuClass": "standard"
  },
  "nbformat": 4,
  "nbformat_minor": 0
}